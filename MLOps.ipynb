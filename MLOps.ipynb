{
 "cells": [
  {
   "cell_type": "code",
   "execution_count": 90,
   "id": "3300e07a-d251-4073-bb88-8c1dc12d99a5",
   "metadata": {},
   "outputs": [
    {
     "name": "stdout",
     "output_type": "stream",
     "text": [
      "Collecting mlflow\n",
      "  Downloading mlflow-3.1.1-py3-none-any.whl (24.7 MB)\n",
      "     ---------------------------------------- 0.0/24.7 MB ? eta -:--:--\n",
      "     ---------------------------------------- 0.2/24.7 MB 3.1 MB/s eta 0:00:09\n",
      "      --------------------------------------- 0.3/24.7 MB 3.5 MB/s eta 0:00:07\n",
      "      --------------------------------------- 0.4/24.7 MB 2.7 MB/s eta 0:00:10\n",
      "     - -------------------------------------- 0.7/24.7 MB 3.8 MB/s eta 0:00:07\n",
      "     - -------------------------------------- 0.8/24.7 MB 3.9 MB/s eta 0:00:07\n",
      "     - -------------------------------------- 1.1/24.7 MB 3.9 MB/s eta 0:00:07\n",
      "     - -------------------------------------- 1.2/24.7 MB 3.5 MB/s eta 0:00:07\n",
      "     -- ------------------------------------- 1.5/24.7 MB 3.9 MB/s eta 0:00:06\n",
      "     -- ------------------------------------- 1.7/24.7 MB 4.0 MB/s eta 0:00:06\n",
      "     --- ------------------------------------ 1.9/24.7 MB 4.0 MB/s eta 0:00:06\n",
      "     --- ------------------------------------ 2.1/24.7 MB 4.0 MB/s eta 0:00:06\n",
      "     --- ------------------------------------ 2.2/24.7 MB 4.0 MB/s eta 0:00:06\n",
      "     --- ------------------------------------ 2.4/24.7 MB 4.0 MB/s eta 0:00:06\n",
      "     ---- ----------------------------------- 2.6/24.7 MB 4.0 MB/s eta 0:00:06\n",
      "     ---- ----------------------------------- 2.8/24.7 MB 4.0 MB/s eta 0:00:06\n",
      "     ---- ----------------------------------- 3.0/24.7 MB 4.0 MB/s eta 0:00:06\n",
      "     ----- ---------------------------------- 3.2/24.7 MB 4.0 MB/s eta 0:00:06\n",
      "     ----- ---------------------------------- 3.4/24.7 MB 4.0 MB/s eta 0:00:06\n",
      "     ----- ---------------------------------- 3.6/24.7 MB 4.0 MB/s eta 0:00:06\n",
      "     ------ --------------------------------- 3.8/24.7 MB 4.0 MB/s eta 0:00:06\n",
      "     ------ --------------------------------- 3.9/24.7 MB 4.0 MB/s eta 0:00:06\n",
      "     ------ --------------------------------- 4.1/24.7 MB 4.0 MB/s eta 0:00:06\n",
      "     ------- -------------------------------- 4.3/24.7 MB 4.0 MB/s eta 0:00:06\n",
      "     ------- -------------------------------- 4.5/24.7 MB 4.0 MB/s eta 0:00:06\n",
      "     ------- -------------------------------- 4.7/24.7 MB 4.0 MB/s eta 0:00:05\n",
      "     ------- -------------------------------- 4.9/24.7 MB 4.0 MB/s eta 0:00:05\n",
      "     -------- ------------------------------- 5.1/24.7 MB 4.0 MB/s eta 0:00:05\n",
      "     -------- ------------------------------- 5.3/24.7 MB 4.0 MB/s eta 0:00:05\n",
      "     -------- ------------------------------- 5.5/24.7 MB 4.0 MB/s eta 0:00:05\n",
      "     --------- ------------------------------ 5.7/24.7 MB 4.0 MB/s eta 0:00:05\n",
      "     --------- ------------------------------ 5.9/24.7 MB 4.0 MB/s eta 0:00:05\n",
      "     --------- ------------------------------ 6.0/24.7 MB 4.0 MB/s eta 0:00:05\n",
      "     ---------- ----------------------------- 6.2/24.7 MB 4.0 MB/s eta 0:00:05\n",
      "     ---------- ----------------------------- 6.4/24.7 MB 4.0 MB/s eta 0:00:05\n",
      "     ---------- ----------------------------- 6.6/24.7 MB 4.0 MB/s eta 0:00:05\n",
      "     ----------- ---------------------------- 6.8/24.7 MB 4.1 MB/s eta 0:00:05\n",
      "     ----------- ---------------------------- 7.0/24.7 MB 4.1 MB/s eta 0:00:05\n",
      "     ----------- ---------------------------- 7.2/24.7 MB 4.1 MB/s eta 0:00:05\n",
      "     ----------- ---------------------------- 7.4/24.7 MB 4.0 MB/s eta 0:00:05\n",
      "     ------------ --------------------------- 7.6/24.7 MB 4.0 MB/s eta 0:00:05\n",
      "     ------------ --------------------------- 7.8/24.7 MB 4.0 MB/s eta 0:00:05\n",
      "     ------------ --------------------------- 7.9/24.7 MB 4.0 MB/s eta 0:00:05\n",
      "     ------------- -------------------------- 8.1/24.7 MB 4.0 MB/s eta 0:00:05\n",
      "     ------------- -------------------------- 8.3/24.7 MB 4.0 MB/s eta 0:00:05\n",
      "     ------------- -------------------------- 8.5/24.7 MB 4.1 MB/s eta 0:00:04\n",
      "     -------------- ------------------------- 8.7/24.7 MB 4.0 MB/s eta 0:00:04\n",
      "     -------------- ------------------------- 8.9/24.7 MB 4.0 MB/s eta 0:00:04\n",
      "     -------------- ------------------------- 9.1/24.7 MB 4.1 MB/s eta 0:00:04\n",
      "     --------------- ------------------------ 9.3/24.7 MB 4.0 MB/s eta 0:00:04\n",
      "     --------------- ------------------------ 9.5/24.7 MB 4.0 MB/s eta 0:00:04\n",
      "     --------------- ------------------------ 9.6/24.7 MB 4.0 MB/s eta 0:00:04\n",
      "     --------------- ------------------------ 9.9/24.7 MB 4.0 MB/s eta 0:00:04\n",
      "     ---------------- ----------------------- 10.0/24.7 MB 4.1 MB/s eta 0:00:04\n",
      "     ---------------- ----------------------- 10.2/24.7 MB 4.0 MB/s eta 0:00:04\n",
      "     ---------------- ----------------------- 10.4/24.7 MB 4.0 MB/s eta 0:00:04\n",
      "     ----------------- ---------------------- 10.6/24.7 MB 4.1 MB/s eta 0:00:04\n",
      "     ----------------- ---------------------- 10.8/24.7 MB 4.1 MB/s eta 0:00:04\n",
      "     ----------------- ---------------------- 11.0/24.7 MB 4.0 MB/s eta 0:00:04\n",
      "     ------------------ --------------------- 11.2/24.7 MB 4.1 MB/s eta 0:00:04\n",
      "     ------------------ --------------------- 11.3/24.7 MB 4.0 MB/s eta 0:00:04\n",
      "     ------------------ --------------------- 11.5/24.7 MB 4.1 MB/s eta 0:00:04\n",
      "     ------------------- -------------------- 11.7/24.7 MB 4.0 MB/s eta 0:00:04\n",
      "     ------------------- -------------------- 11.9/24.7 MB 4.0 MB/s eta 0:00:04\n",
      "     ------------------- -------------------- 12.1/24.7 MB 4.0 MB/s eta 0:00:04\n",
      "     ------------------- -------------------- 12.3/24.7 MB 4.0 MB/s eta 0:00:04\n",
      "     -------------------- ------------------- 12.5/24.7 MB 4.0 MB/s eta 0:00:04\n",
      "     -------------------- ------------------- 12.7/24.7 MB 4.0 MB/s eta 0:00:03\n",
      "     -------------------- ------------------- 12.9/24.7 MB 4.0 MB/s eta 0:00:03\n",
      "     --------------------- ------------------ 13.1/24.7 MB 4.0 MB/s eta 0:00:03\n",
      "     --------------------- ------------------ 13.3/24.7 MB 4.0 MB/s eta 0:00:03\n",
      "     --------------------- ------------------ 13.4/24.7 MB 4.0 MB/s eta 0:00:03\n",
      "     ---------------------- ----------------- 13.6/24.7 MB 4.1 MB/s eta 0:00:03\n",
      "     ---------------------- ----------------- 13.8/24.7 MB 4.1 MB/s eta 0:00:03\n",
      "     ---------------------- ----------------- 14.0/24.7 MB 4.0 MB/s eta 0:00:03\n",
      "     ----------------------- ---------------- 14.2/24.7 MB 4.0 MB/s eta 0:00:03\n",
      "     ----------------------- ---------------- 14.4/24.7 MB 4.0 MB/s eta 0:00:03\n",
      "     ----------------------- ---------------- 14.6/24.7 MB 4.0 MB/s eta 0:00:03\n",
      "     ----------------------- ---------------- 14.8/24.7 MB 4.0 MB/s eta 0:00:03\n",
      "     ------------------------ --------------- 15.0/24.7 MB 4.1 MB/s eta 0:00:03\n",
      "     ------------------------ --------------- 15.1/24.7 MB 4.1 MB/s eta 0:00:03\n",
      "     ------------------------ --------------- 15.3/24.7 MB 4.1 MB/s eta 0:00:03\n",
      "     ------------------------- -------------- 15.5/24.7 MB 4.0 MB/s eta 0:00:03\n",
      "     ------------------------- -------------- 15.7/24.7 MB 4.1 MB/s eta 0:00:03\n",
      "     ------------------------- -------------- 15.9/24.7 MB 4.0 MB/s eta 0:00:03\n",
      "     -------------------------- ------------- 16.1/24.7 MB 4.0 MB/s eta 0:00:03\n",
      "     -------------------------- ------------- 16.3/24.7 MB 4.0 MB/s eta 0:00:03\n",
      "     -------------------------- ------------- 16.5/24.7 MB 4.0 MB/s eta 0:00:03\n",
      "     --------------------------- ------------ 16.7/24.7 MB 4.1 MB/s eta 0:00:02\n",
      "     --------------------------- ------------ 16.9/24.7 MB 4.0 MB/s eta 0:00:02\n",
      "     --------------------------- ------------ 17.0/24.7 MB 4.0 MB/s eta 0:00:02\n",
      "     --------------------------- ------------ 17.2/24.7 MB 4.0 MB/s eta 0:00:02\n",
      "     ---------------------------- ----------- 17.4/24.7 MB 4.0 MB/s eta 0:00:02\n",
      "     ---------------------------- ----------- 17.6/24.7 MB 4.1 MB/s eta 0:00:02\n",
      "     ---------------------------- ----------- 17.8/24.7 MB 4.0 MB/s eta 0:00:02\n",
      "     ----------------------------- ---------- 18.0/24.7 MB 4.0 MB/s eta 0:00:02\n",
      "     ----------------------------- ---------- 18.2/24.7 MB 4.1 MB/s eta 0:00:02\n",
      "     ----------------------------- ---------- 18.4/24.7 MB 4.1 MB/s eta 0:00:02\n",
      "     ----------------------------- ---------- 18.4/24.7 MB 4.1 MB/s eta 0:00:02\n",
      "     ------------------------------ --------- 18.7/24.7 MB 4.0 MB/s eta 0:00:02\n",
      "     ------------------------------ --------- 18.9/24.7 MB 4.0 MB/s eta 0:00:02\n",
      "     ------------------------------ --------- 19.1/24.7 MB 4.0 MB/s eta 0:00:02\n",
      "     ------------------------------- -------- 19.3/24.7 MB 4.0 MB/s eta 0:00:02\n",
      "     ------------------------------- -------- 19.5/24.7 MB 4.0 MB/s eta 0:00:02\n",
      "     ------------------------------- -------- 19.7/24.7 MB 4.0 MB/s eta 0:00:02\n",
      "     -------------------------------- ------- 19.9/24.7 MB 4.0 MB/s eta 0:00:02\n",
      "     -------------------------------- ------- 20.1/24.7 MB 4.0 MB/s eta 0:00:02\n",
      "     -------------------------------- ------- 20.3/24.7 MB 4.0 MB/s eta 0:00:02\n",
      "     --------------------------------- ------ 20.5/24.7 MB 4.0 MB/s eta 0:00:02\n",
      "     --------------------------------- ------ 20.7/24.7 MB 4.0 MB/s eta 0:00:01\n",
      "     --------------------------------- ------ 20.8/24.7 MB 4.1 MB/s eta 0:00:01\n",
      "     ---------------------------------- ----- 21.0/24.7 MB 4.0 MB/s eta 0:00:01\n",
      "     ---------------------------------- ----- 21.2/24.7 MB 4.0 MB/s eta 0:00:01\n",
      "     ---------------------------------- ----- 21.4/24.7 MB 4.0 MB/s eta 0:00:01\n",
      "     ----------------------------------- ---- 21.6/24.7 MB 4.0 MB/s eta 0:00:01\n",
      "     ----------------------------------- ---- 21.8/24.7 MB 4.0 MB/s eta 0:00:01\n",
      "     ----------------------------------- ---- 22.0/24.7 MB 4.0 MB/s eta 0:00:01\n",
      "     ----------------------------------- ---- 22.2/24.7 MB 4.0 MB/s eta 0:00:01\n",
      "     ------------------------------------ --- 22.4/24.7 MB 4.0 MB/s eta 0:00:01\n",
      "     ------------------------------------ --- 22.6/24.7 MB 4.1 MB/s eta 0:00:01\n",
      "     ------------------------------------ --- 22.8/24.7 MB 4.0 MB/s eta 0:00:01\n",
      "     ------------------------------------- -- 22.9/24.7 MB 4.0 MB/s eta 0:00:01\n",
      "     ------------------------------------- -- 23.1/24.7 MB 4.1 MB/s eta 0:00:01\n",
      "     ------------------------------------- -- 23.3/24.7 MB 4.0 MB/s eta 0:00:01\n",
      "     -------------------------------------- - 23.5/24.7 MB 4.1 MB/s eta 0:00:01\n",
      "     -------------------------------------- - 23.7/24.7 MB 4.1 MB/s eta 0:00:01\n",
      "     -------------------------------------- - 23.9/24.7 MB 4.0 MB/s eta 0:00:01\n",
      "     ---------------------------------------  24.1/24.7 MB 4.1 MB/s eta 0:00:01\n",
      "     ---------------------------------------  24.3/24.7 MB 4.1 MB/s eta 0:00:01\n",
      "     ---------------------------------------  24.5/24.7 MB 4.0 MB/s eta 0:00:01\n",
      "     ---------------------------------------  24.7/24.7 MB 4.1 MB/s eta 0:00:01\n",
      "     ---------------------------------------  24.7/24.7 MB 4.1 MB/s eta 0:00:01\n",
      "     ---------------------------------------- 24.7/24.7 MB 4.0 MB/s eta 0:00:00\n",
      "Collecting mlflow-skinny==3.1.1\n",
      "  Downloading mlflow_skinny-3.1.1-py3-none-any.whl (1.9 MB)\n",
      "     ---------------------------------------- 0.0/1.9 MB ? eta -:--:--\n",
      "     --- ------------------------------------ 0.2/1.9 MB 5.3 MB/s eta 0:00:01\n",
      "     ------- -------------------------------- 0.4/1.9 MB 4.6 MB/s eta 0:00:01\n",
      "     ----------- ---------------------------- 0.6/1.9 MB 4.4 MB/s eta 0:00:01\n",
      "     --------------- ------------------------ 0.7/1.9 MB 4.3 MB/s eta 0:00:01\n",
      "     ------------------- -------------------- 0.9/1.9 MB 4.3 MB/s eta 0:00:01\n",
      "     ----------------------- ---------------- 1.1/1.9 MB 4.2 MB/s eta 0:00:01\n",
      "     -------------------------- ------------- 1.3/1.9 MB 4.1 MB/s eta 0:00:01\n",
      "     ------------------------------- -------- 1.5/1.9 MB 4.1 MB/s eta 0:00:01\n",
      "     ----------------------------------- ---- 1.7/1.9 MB 4.2 MB/s eta 0:00:01\n",
      "     ---------------------------------------  1.9/1.9 MB 4.2 MB/s eta 0:00:01\n",
      "     ---------------------------------------- 1.9/1.9 MB 4.1 MB/s eta 0:00:00\n",
      "Collecting Flask<4\n",
      "  Downloading flask-3.1.1-py3-none-any.whl (103 kB)\n",
      "     ---------------------------------------- 0.0/103.3 kB ? eta -:--:--\n",
      "     -------------------------------------- 103.3/103.3 kB 5.8 MB/s eta 0:00:00\n",
      "Collecting alembic!=1.10.0,<2\n",
      "  Downloading alembic-1.16.4-py3-none-any.whl (247 kB)\n",
      "     ---------------------------------------- 0.0/247.0 kB ? eta -:--:--\n",
      "     ---------------------- --------------- 143.4/247.0 kB 4.3 MB/s eta 0:00:01\n",
      "     -------------------------------------- 247.0/247.0 kB 3.8 MB/s eta 0:00:00\n",
      "Collecting docker<8,>=4.0.0\n",
      "  Downloading docker-7.1.0-py3-none-any.whl (147 kB)\n",
      "     ---------------------------------------- 0.0/147.8 kB ? eta -:--:--\n",
      "     ------------------------------------ - 143.4/147.8 kB 4.3 MB/s eta 0:00:01\n",
      "     -------------------------------------- 147.8/147.8 kB 4.4 MB/s eta 0:00:00\n",
      "Collecting graphene<4\n",
      "  Downloading graphene-3.4.3-py2.py3-none-any.whl (114 kB)\n",
      "     ---------------------------------------- 0.0/114.9 kB ? eta -:--:--\n",
      "     -------------------------------------- 114.9/114.9 kB 3.4 MB/s eta 0:00:00\n",
      "Requirement already satisfied: matplotlib<4 in c:\\users\\zidny\\appdata\\local\\programs\\python\\python311\\lib\\site-packages (from mlflow) (3.7.1)\n",
      "Requirement already satisfied: numpy<3 in c:\\users\\zidny\\appdata\\local\\programs\\python\\python311\\lib\\site-packages (from mlflow) (1.24.2)\n",
      "Requirement already satisfied: pandas<3 in c:\\users\\zidny\\appdata\\local\\programs\\python\\python311\\lib\\site-packages (from mlflow) (2.0.1)\n",
      "Requirement already satisfied: pyarrow<21,>=4.0.0 in c:\\users\\zidny\\appdata\\local\\programs\\python\\python311\\lib\\site-packages (from mlflow) (12.0.0)\n",
      "Requirement already satisfied: scikit-learn<2 in c:\\users\\zidny\\appdata\\local\\programs\\python\\python311\\lib\\site-packages (from mlflow) (1.7.0)\n",
      "Requirement already satisfied: scipy<2 in c:\\users\\zidny\\appdata\\local\\programs\\python\\python311\\lib\\site-packages (from mlflow) (1.10.1)\n",
      "Collecting sqlalchemy<3,>=1.4.0\n",
      "  Downloading sqlalchemy-2.0.41-cp311-cp311-win_amd64.whl (2.1 MB)\n",
      "     ---------------------------------------- 0.0/2.1 MB ? eta -:--:--\n",
      "     ----- ---------------------------------- 0.3/2.1 MB 5.9 MB/s eta 0:00:01\n",
      "     -------- ------------------------------- 0.5/2.1 MB 4.9 MB/s eta 0:00:01\n",
      "     ------------ --------------------------- 0.6/2.1 MB 5.1 MB/s eta 0:00:01\n",
      "     ---------------- ----------------------- 0.8/2.1 MB 4.5 MB/s eta 0:00:01\n",
      "     ------------------- -------------------- 1.0/2.1 MB 4.6 MB/s eta 0:00:01\n",
      "     ----------------------- ---------------- 1.2/2.1 MB 4.6 MB/s eta 0:00:01\n",
      "     -------------------------- ------------- 1.4/2.1 MB 4.5 MB/s eta 0:00:01\n",
      "     ------------------------------ --------- 1.6/2.1 MB 4.4 MB/s eta 0:00:01\n",
      "     --------------------------------- ------ 1.8/2.1 MB 4.2 MB/s eta 0:00:01\n",
      "     ------------------------------------- -- 2.0/2.1 MB 4.3 MB/s eta 0:00:01\n",
      "     ---------------------------------------- 2.1/2.1 MB 4.2 MB/s eta 0:00:00\n",
      "Collecting waitress<4\n",
      "  Downloading waitress-3.0.2-py3-none-any.whl (56 kB)\n",
      "     ---------------------------------------- 0.0/56.2 kB ? eta -:--:--\n",
      "     ---------------------------------------- 56.2/56.2 kB ? eta 0:00:00\n",
      "Requirement already satisfied: cachetools<7,>=5.0.0 in c:\\users\\zidny\\appdata\\local\\programs\\python\\python311\\lib\\site-packages (from mlflow-skinny==3.1.1->mlflow) (5.3.0)\n",
      "Requirement already satisfied: click<9,>=7.0 in c:\\users\\zidny\\appdata\\local\\programs\\python\\python311\\lib\\site-packages (from mlflow-skinny==3.1.1->mlflow) (8.1.3)\n",
      "Collecting cloudpickle<4\n",
      "  Downloading cloudpickle-3.1.1-py3-none-any.whl (20 kB)\n",
      "Collecting databricks-sdk<1,>=0.20.0\n",
      "  Downloading databricks_sdk-0.58.0-py3-none-any.whl (741 kB)\n",
      "     ---------------------------------------- 0.0/741.4 kB ? eta -:--:--\n",
      "     ---------- --------------------------- 204.8/741.4 kB 4.1 MB/s eta 0:00:01\n",
      "     -------------------- ----------------- 399.4/741.4 kB 4.1 MB/s eta 0:00:01\n",
      "     ----------------------------- -------- 583.7/741.4 kB 4.1 MB/s eta 0:00:01\n",
      "     -------------------------------------- 741.4/741.4 kB 4.3 MB/s eta 0:00:00\n",
      "Collecting fastapi<1\n",
      "  Downloading fastapi-0.116.1-py3-none-any.whl (95 kB)\n",
      "     ---------------------------------------- 0.0/95.6 kB ? eta -:--:--\n",
      "     ---------------------------------------- 95.6/95.6 kB 5.7 MB/s eta 0:00:00\n",
      "Requirement already satisfied: gitpython<4,>=3.1.9 in c:\\users\\zidny\\appdata\\local\\programs\\python\\python311\\lib\\site-packages (from mlflow-skinny==3.1.1->mlflow) (3.1.31)\n",
      "Requirement already satisfied: importlib_metadata!=4.7.0,<9,>=3.7.0 in c:\\users\\zidny\\appdata\\local\\programs\\python\\python311\\lib\\site-packages (from mlflow-skinny==3.1.1->mlflow) (6.6.0)\n",
      "Collecting opentelemetry-api<3,>=1.9.0\n",
      "  Downloading opentelemetry_api-1.35.0-py3-none-any.whl (65 kB)\n",
      "     ---------------------------------------- 0.0/65.6 kB ? eta -:--:--\n",
      "     ---------------------------------------- 65.6/65.6 kB 3.5 MB/s eta 0:00:00\n",
      "Collecting opentelemetry-sdk<3,>=1.9.0\n",
      "  Downloading opentelemetry_sdk-1.35.0-py3-none-any.whl (119 kB)\n",
      "     ---------------------------------------- 0.0/119.4 kB ? eta -:--:--\n",
      "     -------------------------------------- 119.4/119.4 kB 6.8 MB/s eta 0:00:00\n",
      "Requirement already satisfied: packaging<26 in c:\\users\\zidny\\appdata\\local\\programs\\python\\python311\\lib\\site-packages (from mlflow-skinny==3.1.1->mlflow) (23.1)\n",
      "Requirement already satisfied: protobuf<7,>=3.12.0 in c:\\users\\zidny\\appdata\\local\\programs\\python\\python311\\lib\\site-packages (from mlflow-skinny==3.1.1->mlflow) (3.20.3)\n",
      "Collecting pydantic<3,>=1.10.8\n",
      "  Downloading pydantic-2.11.7-py3-none-any.whl (444 kB)\n",
      "     ---------------------------------------- 0.0/444.8 kB ? eta -:--:--\n",
      "     ------------ ------------------------- 143.4/444.8 kB 4.3 MB/s eta 0:00:01\n",
      "     ------------------------------ ------- 358.4/444.8 kB 4.5 MB/s eta 0:00:01\n",
      "     -------------------------------------- 444.8/444.8 kB 4.0 MB/s eta 0:00:00\n",
      "Requirement already satisfied: pyyaml<7,>=5.1 in c:\\users\\zidny\\appdata\\local\\programs\\python\\python311\\lib\\site-packages (from mlflow-skinny==3.1.1->mlflow) (6.0.2)\n",
      "Requirement already satisfied: requests<3,>=2.17.3 in c:\\users\\zidny\\appdata\\local\\programs\\python\\python311\\lib\\site-packages (from mlflow-skinny==3.1.1->mlflow) (2.31.0)\n",
      "Collecting sqlparse<1,>=0.4.0\n",
      "  Downloading sqlparse-0.5.3-py3-none-any.whl (44 kB)\n",
      "     ---------------------------------------- 0.0/44.4 kB ? eta -:--:--\n",
      "     ---------------------------------------- 44.4/44.4 kB ? eta 0:00:00\n",
      "Requirement already satisfied: typing-extensions<5,>=4.0.0 in c:\\users\\zidny\\appdata\\local\\programs\\python\\python311\\lib\\site-packages (from mlflow-skinny==3.1.1->mlflow) (4.6.1)\n",
      "Collecting uvicorn<1\n",
      "  Downloading uvicorn-0.35.0-py3-none-any.whl (66 kB)\n",
      "     ---------------------------------------- 0.0/66.4 kB ? eta -:--:--\n",
      "     ---------------------------------------- 66.4/66.4 kB 3.7 MB/s eta 0:00:00\n",
      "Collecting Mako\n",
      "  Downloading mako-1.3.10-py3-none-any.whl (78 kB)\n",
      "     ---------------------------------------- 0.0/78.5 kB ? eta -:--:--\n",
      "     ---------------------------------------- 78.5/78.5 kB 4.3 MB/s eta 0:00:00\n",
      "Collecting typing-extensions<5,>=4.0.0\n",
      "  Using cached typing_extensions-4.14.1-py3-none-any.whl (43 kB)\n",
      "Requirement already satisfied: pywin32>=304 in c:\\users\\zidny\\appdata\\roaming\\python\\python311\\site-packages (from docker<8,>=4.0.0->mlflow) (306)\n",
      "Requirement already satisfied: urllib3>=1.26.0 in c:\\users\\zidny\\appdata\\local\\programs\\python\\python311\\lib\\site-packages (from docker<8,>=4.0.0->mlflow) (2.0.2)\n",
      "Collecting blinker>=1.9.0\n",
      "  Downloading blinker-1.9.0-py3-none-any.whl (8.5 kB)\n",
      "Collecting itsdangerous>=2.2.0\n",
      "  Downloading itsdangerous-2.2.0-py3-none-any.whl (16 kB)\n",
      "Requirement already satisfied: jinja2>=3.1.2 in c:\\users\\zidny\\appdata\\local\\programs\\python\\python311\\lib\\site-packages (from Flask<4->mlflow) (3.1.2)\n",
      "Requirement already satisfied: markupsafe>=2.1.1 in c:\\users\\zidny\\appdata\\local\\programs\\python\\python311\\lib\\site-packages (from Flask<4->mlflow) (2.1.2)\n",
      "Collecting werkzeug>=3.1.0\n",
      "  Using cached werkzeug-3.1.3-py3-none-any.whl (224 kB)\n",
      "Collecting graphql-core<3.3,>=3.1\n",
      "  Downloading graphql_core-3.2.6-py3-none-any.whl (203 kB)\n",
      "     ---------------------------------------- 0.0/203.4 kB ? eta -:--:--\n",
      "     ---------------------------- --------- 153.6/203.4 kB 4.6 MB/s eta 0:00:01\n",
      "     -------------------------------------- 203.4/203.4 kB 4.1 MB/s eta 0:00:00\n",
      "Collecting graphql-relay<3.3,>=3.1\n",
      "  Downloading graphql_relay-3.2.0-py3-none-any.whl (16 kB)\n",
      "Requirement already satisfied: python-dateutil<3,>=2.7.0 in c:\\users\\zidny\\appdata\\local\\programs\\python\\python311\\lib\\site-packages (from graphene<4->mlflow) (2.8.2)\n",
      "Requirement already satisfied: contourpy>=1.0.1 in c:\\users\\zidny\\appdata\\local\\programs\\python\\python311\\lib\\site-packages (from matplotlib<4->mlflow) (1.0.7)\n",
      "Requirement already satisfied: cycler>=0.10 in c:\\users\\zidny\\appdata\\local\\programs\\python\\python311\\lib\\site-packages (from matplotlib<4->mlflow) (0.11.0)\n",
      "Requirement already satisfied: fonttools>=4.22.0 in c:\\users\\zidny\\appdata\\local\\programs\\python\\python311\\lib\\site-packages (from matplotlib<4->mlflow) (4.39.4)\n",
      "Requirement already satisfied: kiwisolver>=1.0.1 in c:\\users\\zidny\\appdata\\local\\programs\\python\\python311\\lib\\site-packages (from matplotlib<4->mlflow) (1.4.4)\n",
      "Requirement already satisfied: pillow>=6.2.0 in c:\\users\\zidny\\appdata\\local\\programs\\python\\python311\\lib\\site-packages (from matplotlib<4->mlflow) (9.5.0)\n",
      "Requirement already satisfied: pyparsing>=2.3.1 in c:\\users\\zidny\\appdata\\local\\programs\\python\\python311\\lib\\site-packages (from matplotlib<4->mlflow) (3.0.9)\n",
      "Requirement already satisfied: pytz>=2020.1 in c:\\users\\zidny\\appdata\\local\\programs\\python\\python311\\lib\\site-packages (from pandas<3->mlflow) (2023.3)\n",
      "Requirement already satisfied: tzdata>=2022.1 in c:\\users\\zidny\\appdata\\local\\programs\\python\\python311\\lib\\site-packages (from pandas<3->mlflow) (2023.3)\n",
      "Requirement already satisfied: joblib>=1.2.0 in c:\\users\\zidny\\appdata\\local\\programs\\python\\python311\\lib\\site-packages (from scikit-learn<2->mlflow) (1.5.1)\n",
      "Requirement already satisfied: threadpoolctl>=3.1.0 in c:\\users\\zidny\\appdata\\local\\programs\\python\\python311\\lib\\site-packages (from scikit-learn<2->mlflow) (3.6.0)\n",
      "Collecting greenlet>=1\n",
      "  Downloading greenlet-3.2.3-cp311-cp311-win_amd64.whl (297 kB)\n",
      "     ---------------------------------------- 0.0/297.0 kB ? eta -:--:--\n",
      "     ------------------- ------------------ 153.6/297.0 kB 3.1 MB/s eta 0:00:01\n",
      "     -------------------------------------- 297.0/297.0 kB 3.7 MB/s eta 0:00:00\n",
      "Requirement already satisfied: colorama in c:\\users\\zidny\\appdata\\local\\programs\\python\\python311\\lib\\site-packages (from click<9,>=7.0->mlflow-skinny==3.1.1->mlflow) (0.4.6)\n",
      "Collecting google-auth~=2.0\n",
      "  Downloading google_auth-2.40.3-py2.py3-none-any.whl (216 kB)\n",
      "     ---------------------------------------- 0.0/216.1 kB ? eta -:--:--\n",
      "     ------------------------- ------------ 143.4/216.1 kB 4.2 MB/s eta 0:00:01\n",
      "     -------------------------------------- 216.1/216.1 kB 3.3 MB/s eta 0:00:00\n",
      "Collecting starlette<0.48.0,>=0.40.0\n",
      "  Downloading starlette-0.47.1-py3-none-any.whl (72 kB)\n",
      "     ---------------------------------------- 0.0/72.7 kB ? eta -:--:--\n",
      "     ---------------------------------------- 72.7/72.7 kB 3.9 MB/s eta 0:00:00\n",
      "Requirement already satisfied: gitdb<5,>=4.0.1 in c:\\users\\zidny\\appdata\\local\\programs\\python\\python311\\lib\\site-packages (from gitpython<4,>=3.1.9->mlflow-skinny==3.1.1->mlflow) (4.0.10)\n",
      "Requirement already satisfied: zipp>=0.5 in c:\\users\\zidny\\appdata\\local\\programs\\python\\python311\\lib\\site-packages (from importlib_metadata!=4.7.0,<9,>=3.7.0->mlflow-skinny==3.1.1->mlflow) (3.15.0)\n",
      "Collecting opentelemetry-semantic-conventions==0.56b0\n",
      "  Downloading opentelemetry_semantic_conventions-0.56b0-py3-none-any.whl (201 kB)\n",
      "     ---------------------------------------- 0.0/201.6 kB ? eta -:--:--\n",
      "     -------------------------------- ----- 174.1/201.6 kB 3.5 MB/s eta 0:00:01\n",
      "     -------------------------------------- 201.6/201.6 kB 4.1 MB/s eta 0:00:00\n",
      "Collecting annotated-types>=0.6.0\n",
      "  Downloading annotated_types-0.7.0-py3-none-any.whl (13 kB)\n",
      "Collecting pydantic-core==2.33.2\n",
      "  Downloading pydantic_core-2.33.2-cp311-cp311-win_amd64.whl (2.0 MB)\n",
      "     ---------------------------------------- 0.0/2.0 MB ? eta -:--:--\n",
      "     --- ------------------------------------ 0.2/2.0 MB 3.7 MB/s eta 0:00:01\n",
      "     ------- -------------------------------- 0.4/2.0 MB 3.8 MB/s eta 0:00:01\n",
      "     ----------- ---------------------------- 0.6/2.0 MB 3.9 MB/s eta 0:00:01\n",
      "     --------------- ------------------------ 0.7/2.0 MB 3.9 MB/s eta 0:00:01\n",
      "     ------------------- -------------------- 0.9/2.0 MB 3.9 MB/s eta 0:00:01\n",
      "     ----------------------- ---------------- 1.1/2.0 MB 4.0 MB/s eta 0:00:01\n",
      "     --------------------------- ------------ 1.3/2.0 MB 4.0 MB/s eta 0:00:01\n",
      "     ------------------------------- -------- 1.5/2.0 MB 4.0 MB/s eta 0:00:01\n",
      "     ---------------------------------- ----- 1.7/2.0 MB 4.0 MB/s eta 0:00:01\n",
      "     -------------------------------------- - 1.9/2.0 MB 4.0 MB/s eta 0:00:01\n",
      "     ---------------------------------------- 2.0/2.0 MB 4.0 MB/s eta 0:00:00\n",
      "Collecting typing-inspection>=0.4.0\n",
      "  Downloading typing_inspection-0.4.1-py3-none-any.whl (14 kB)\n",
      "Requirement already satisfied: six>=1.5 in c:\\users\\zidny\\appdata\\local\\programs\\python\\python311\\lib\\site-packages (from python-dateutil<3,>=2.7.0->graphene<4->mlflow) (1.16.0)\n",
      "Requirement already satisfied: charset-normalizer<4,>=2 in c:\\users\\zidny\\appdata\\local\\programs\\python\\python311\\lib\\site-packages (from requests<3,>=2.17.3->mlflow-skinny==3.1.1->mlflow) (3.1.0)\n",
      "Requirement already satisfied: idna<4,>=2.5 in c:\\users\\zidny\\appdata\\local\\programs\\python\\python311\\lib\\site-packages (from requests<3,>=2.17.3->mlflow-skinny==3.1.1->mlflow) (3.4)\n",
      "Requirement already satisfied: certifi>=2017.4.17 in c:\\users\\zidny\\appdata\\local\\programs\\python\\python311\\lib\\site-packages (from requests<3,>=2.17.3->mlflow-skinny==3.1.1->mlflow) (2023.5.7)\n",
      "Requirement already satisfied: h11>=0.8 in c:\\users\\zidny\\appdata\\local\\programs\\python\\python311\\lib\\site-packages (from uvicorn<1->mlflow-skinny==3.1.1->mlflow) (0.16.0)\n",
      "Requirement already satisfied: smmap<6,>=3.0.1 in c:\\users\\zidny\\appdata\\local\\programs\\python\\python311\\lib\\site-packages (from gitdb<5,>=4.0.1->gitpython<4,>=3.1.9->mlflow-skinny==3.1.1->mlflow) (5.0.0)\n",
      "Collecting pyasn1-modules>=0.2.1\n",
      "  Downloading pyasn1_modules-0.4.2-py3-none-any.whl (181 kB)\n",
      "     ---------------------------------------- 0.0/181.3 kB ? eta -:--:--\n",
      "     -------------------------------------- 181.3/181.3 kB 3.7 MB/s eta 0:00:00\n",
      "Collecting rsa<5,>=3.1.4\n",
      "  Downloading rsa-4.9.1-py3-none-any.whl (34 kB)\n",
      "Requirement already satisfied: anyio<5,>=3.6.2 in c:\\users\\zidny\\appdata\\local\\programs\\python\\python311\\lib\\site-packages (from starlette<0.48.0,>=0.40.0->fastapi<1->mlflow-skinny==3.1.1->mlflow) (4.9.0)\n",
      "Requirement already satisfied: sniffio>=1.1 in c:\\users\\zidny\\appdata\\local\\programs\\python\\python311\\lib\\site-packages (from anyio<5,>=3.6.2->starlette<0.48.0,>=0.40.0->fastapi<1->mlflow-skinny==3.1.1->mlflow) (1.3.0)\n",
      "Collecting pyasn1<0.7.0,>=0.6.1\n",
      "  Downloading pyasn1-0.6.1-py3-none-any.whl (83 kB)\n",
      "     ---------------------------------------- 0.0/83.1 kB ? eta -:--:--\n",
      "     ---------------------------------------- 83.1/83.1 kB 4.9 MB/s eta 0:00:00\n",
      "Installing collected packages: werkzeug, waitress, typing-extensions, sqlparse, pyasn1, Mako, itsdangerous, greenlet, graphql-core, cloudpickle, blinker, annotated-types, uvicorn, typing-inspection, sqlalchemy, rsa, pydantic-core, pyasn1-modules, opentelemetry-api, graphql-relay, Flask, docker, starlette, pydantic, opentelemetry-semantic-conventions, graphene, google-auth, alembic, opentelemetry-sdk, fastapi, databricks-sdk, mlflow-skinny, mlflow\n",
      "  Attempting uninstall: typing-extensions\n",
      "    Found existing installation: typing_extensions 4.6.1\n",
      "    Uninstalling typing_extensions-4.6.1:\n",
      "      Successfully uninstalled typing_extensions-4.6.1\n",
      "  Attempting uninstall: blinker\n",
      "    Found existing installation: blinker 1.6.2\n",
      "    Uninstalling blinker-1.6.2:\n",
      "      Successfully uninstalled blinker-1.6.2\n",
      "Successfully installed Flask-3.1.1 Mako-1.3.10 alembic-1.16.4 annotated-types-0.7.0 blinker-1.9.0 cloudpickle-3.1.1 databricks-sdk-0.58.0 docker-7.1.0 fastapi-0.116.1 google-auth-2.40.3 graphene-3.4.3 graphql-core-3.2.6 graphql-relay-3.2.0 greenlet-3.2.3 itsdangerous-2.2.0 mlflow-3.1.1 mlflow-skinny-3.1.1 opentelemetry-api-1.35.0 opentelemetry-sdk-1.35.0 opentelemetry-semantic-conventions-0.56b0 pyasn1-0.6.1 pyasn1-modules-0.4.2 pydantic-2.11.7 pydantic-core-2.33.2 rsa-4.9.1 sqlalchemy-2.0.41 sqlparse-0.5.3 starlette-0.47.1 typing-extensions-4.14.1 typing-inspection-0.4.1 uvicorn-0.35.0 waitress-3.0.2 werkzeug-3.1.3\n"
     ]
    },
    {
     "name": "stderr",
     "output_type": "stream",
     "text": [
      "\n",
      "[notice] A new release of pip is available: 23.0.1 -> 25.1.1\n",
      "[notice] To update, run: python.exe -m pip install --upgrade pip\n"
     ]
    }
   ],
   "source": [
    "!pip install mlflow"
   ]
  },
  {
   "cell_type": "code",
   "execution_count": 38,
   "id": "f7c12ad4-641f-4a0e-a4ed-8f973e046d6d",
   "metadata": {},
   "outputs": [],
   "source": [
    "import pandas as pd\n",
    "import numpy as np\n",
    "import matplotlib.pyplot as plt\n",
    "import kagglehub\n",
    "import seaborn as sns\n",
    "sns.set_theme()\n",
    "\n",
    "from sklearn.model_selection import train_test_split\n",
    "from sklearn.linear_model import LogisticRegression"
   ]
  },
  {
   "cell_type": "code",
   "execution_count": 7,
   "id": "4e27bdac-879f-4e68-8e40-698e90866688",
   "metadata": {},
   "outputs": [
    {
     "name": "stdout",
     "output_type": "stream",
     "text": [
      "Downloading from https://www.kaggle.com/api/v1/datasets/download/andrewmvd/heart-failure-clinical-data?dataset_version_number=1...\n"
     ]
    },
    {
     "name": "stderr",
     "output_type": "stream",
     "text": [
      "100%|████████████████████████████████████████████████████████████████████████████| 3.97k/3.97k [00:00<00:00, 4.22MB/s]"
     ]
    },
    {
     "name": "stdout",
     "output_type": "stream",
     "text": [
      "Extracting files...\n"
     ]
    },
    {
     "name": "stderr",
     "output_type": "stream",
     "text": [
      "\n"
     ]
    },
    {
     "data": {
      "text/plain": [
       "'C:\\\\Users\\\\zidny\\\\.cache\\\\kagglehub\\\\datasets\\\\andrewmvd\\\\heart-failure-clinical-data\\\\versions\\\\1'"
      ]
     },
     "execution_count": 7,
     "metadata": {},
     "output_type": "execute_result"
    }
   ],
   "source": [
    "# Download the latest version.\n",
    "kagglehub.dataset_download('andrewmvd/heart-failure-clinical-data')"
   ]
  },
  {
   "cell_type": "code",
   "execution_count": 12,
   "id": "0b8a2404-d13c-4e31-ad6a-7271a74dfaec",
   "metadata": {},
   "outputs": [
    {
     "name": "stdout",
     "output_type": "stream",
     "text": [
      "Download already complete (12239 bytes).\n"
     ]
    }
   ],
   "source": [
    "# Load a DataFrame with a specific version of a CSV\n",
    "from kagglehub import KaggleDatasetAdapter\n",
    "\n",
    "df = kagglehub.dataset_load(\n",
    "    KaggleDatasetAdapter.PANDAS,\n",
    "    \"andrewmvd/heart-failure-clinical-data/versions/1\",\n",
    "    \"heart_failure_clinical_records_dataset.csv\",\n",
    ")"
   ]
  },
  {
   "cell_type": "code",
   "execution_count": 14,
   "id": "2086821a-228b-4fd3-82bb-23619e438c8e",
   "metadata": {},
   "outputs": [
    {
     "data": {
      "text/html": [
       "<div>\n",
       "<style scoped>\n",
       "    .dataframe tbody tr th:only-of-type {\n",
       "        vertical-align: middle;\n",
       "    }\n",
       "\n",
       "    .dataframe tbody tr th {\n",
       "        vertical-align: top;\n",
       "    }\n",
       "\n",
       "    .dataframe thead th {\n",
       "        text-align: right;\n",
       "    }\n",
       "</style>\n",
       "<table border=\"1\" class=\"dataframe\">\n",
       "  <thead>\n",
       "    <tr style=\"text-align: right;\">\n",
       "      <th></th>\n",
       "      <th>age</th>\n",
       "      <th>anaemia</th>\n",
       "      <th>creatinine_phosphokinase</th>\n",
       "      <th>diabetes</th>\n",
       "      <th>ejection_fraction</th>\n",
       "      <th>high_blood_pressure</th>\n",
       "      <th>platelets</th>\n",
       "      <th>serum_creatinine</th>\n",
       "      <th>serum_sodium</th>\n",
       "      <th>sex</th>\n",
       "      <th>smoking</th>\n",
       "      <th>time</th>\n",
       "      <th>DEATH_EVENT</th>\n",
       "    </tr>\n",
       "  </thead>\n",
       "  <tbody>\n",
       "    <tr>\n",
       "      <th>0</th>\n",
       "      <td>75.0</td>\n",
       "      <td>0</td>\n",
       "      <td>582</td>\n",
       "      <td>0</td>\n",
       "      <td>20</td>\n",
       "      <td>1</td>\n",
       "      <td>265000.00</td>\n",
       "      <td>1.9</td>\n",
       "      <td>130</td>\n",
       "      <td>1</td>\n",
       "      <td>0</td>\n",
       "      <td>4</td>\n",
       "      <td>1</td>\n",
       "    </tr>\n",
       "    <tr>\n",
       "      <th>1</th>\n",
       "      <td>55.0</td>\n",
       "      <td>0</td>\n",
       "      <td>7861</td>\n",
       "      <td>0</td>\n",
       "      <td>38</td>\n",
       "      <td>0</td>\n",
       "      <td>263358.03</td>\n",
       "      <td>1.1</td>\n",
       "      <td>136</td>\n",
       "      <td>1</td>\n",
       "      <td>0</td>\n",
       "      <td>6</td>\n",
       "      <td>1</td>\n",
       "    </tr>\n",
       "    <tr>\n",
       "      <th>2</th>\n",
       "      <td>65.0</td>\n",
       "      <td>0</td>\n",
       "      <td>146</td>\n",
       "      <td>0</td>\n",
       "      <td>20</td>\n",
       "      <td>0</td>\n",
       "      <td>162000.00</td>\n",
       "      <td>1.3</td>\n",
       "      <td>129</td>\n",
       "      <td>1</td>\n",
       "      <td>1</td>\n",
       "      <td>7</td>\n",
       "      <td>1</td>\n",
       "    </tr>\n",
       "    <tr>\n",
       "      <th>3</th>\n",
       "      <td>50.0</td>\n",
       "      <td>1</td>\n",
       "      <td>111</td>\n",
       "      <td>0</td>\n",
       "      <td>20</td>\n",
       "      <td>0</td>\n",
       "      <td>210000.00</td>\n",
       "      <td>1.9</td>\n",
       "      <td>137</td>\n",
       "      <td>1</td>\n",
       "      <td>0</td>\n",
       "      <td>7</td>\n",
       "      <td>1</td>\n",
       "    </tr>\n",
       "    <tr>\n",
       "      <th>4</th>\n",
       "      <td>65.0</td>\n",
       "      <td>1</td>\n",
       "      <td>160</td>\n",
       "      <td>1</td>\n",
       "      <td>20</td>\n",
       "      <td>0</td>\n",
       "      <td>327000.00</td>\n",
       "      <td>2.7</td>\n",
       "      <td>116</td>\n",
       "      <td>0</td>\n",
       "      <td>0</td>\n",
       "      <td>8</td>\n",
       "      <td>1</td>\n",
       "    </tr>\n",
       "  </tbody>\n",
       "</table>\n",
       "</div>"
      ],
      "text/plain": [
       "    age  anaemia  creatinine_phosphokinase  diabetes  ejection_fraction   \n",
       "0  75.0        0                       582         0                 20  \\\n",
       "1  55.0        0                      7861         0                 38   \n",
       "2  65.0        0                       146         0                 20   \n",
       "3  50.0        1                       111         0                 20   \n",
       "4  65.0        1                       160         1                 20   \n",
       "\n",
       "   high_blood_pressure  platelets  serum_creatinine  serum_sodium  sex   \n",
       "0                    1  265000.00               1.9           130    1  \\\n",
       "1                    0  263358.03               1.1           136    1   \n",
       "2                    0  162000.00               1.3           129    1   \n",
       "3                    0  210000.00               1.9           137    1   \n",
       "4                    0  327000.00               2.7           116    0   \n",
       "\n",
       "   smoking  time  DEATH_EVENT  \n",
       "0        0     4            1  \n",
       "1        0     6            1  \n",
       "2        1     7            1  \n",
       "3        0     7            1  \n",
       "4        0     8            1  "
      ]
     },
     "execution_count": 14,
     "metadata": {},
     "output_type": "execute_result"
    }
   ],
   "source": [
    "df.head()"
   ]
  },
  {
   "cell_type": "code",
   "execution_count": 15,
   "id": "60730931-3271-4ad4-864b-b910ebe0dc6b",
   "metadata": {
    "scrolled": true
   },
   "outputs": [
    {
     "name": "stdout",
     "output_type": "stream",
     "text": [
      "<class 'pandas.core.frame.DataFrame'>\n",
      "RangeIndex: 299 entries, 0 to 298\n",
      "Data columns (total 13 columns):\n",
      " #   Column                    Non-Null Count  Dtype  \n",
      "---  ------                    --------------  -----  \n",
      " 0   age                       299 non-null    float64\n",
      " 1   anaemia                   299 non-null    int64  \n",
      " 2   creatinine_phosphokinase  299 non-null    int64  \n",
      " 3   diabetes                  299 non-null    int64  \n",
      " 4   ejection_fraction         299 non-null    int64  \n",
      " 5   high_blood_pressure       299 non-null    int64  \n",
      " 6   platelets                 299 non-null    float64\n",
      " 7   serum_creatinine          299 non-null    float64\n",
      " 8   serum_sodium              299 non-null    int64  \n",
      " 9   sex                       299 non-null    int64  \n",
      " 10  smoking                   299 non-null    int64  \n",
      " 11  time                      299 non-null    int64  \n",
      " 12  DEATH_EVENT               299 non-null    int64  \n",
      "dtypes: float64(3), int64(10)\n",
      "memory usage: 30.5 KB\n"
     ]
    }
   ],
   "source": [
    "df.info()"
   ]
  },
  {
   "cell_type": "code",
   "execution_count": 22,
   "id": "4b19c55a-ac88-4d82-b212-8bc260103955",
   "metadata": {},
   "outputs": [
    {
     "data": {
      "text/plain": [
       "<seaborn.axisgrid.FacetGrid at 0x20f4bfcdc50>"
      ]
     },
     "execution_count": 22,
     "metadata": {},
     "output_type": "execute_result"
    },
    {
     "data": {
      "image/png": "[encoded data removed]",
      "text/plain": [
       "<Figure size 632.097x500 with 1 Axes>"
      ]
     },
     "metadata": {},
     "output_type": "display_data"
    }
   ],
   "source": [
    "sns.displot(df, x='age', hue='DEATH_EVENT')"
   ]
  },
  {
   "cell_type": "code",
   "execution_count": 27,
   "id": "dd15c69b-b87d-4e51-9c3a-ff76857d0c47",
   "metadata": {},
   "outputs": [],
   "source": [
    "X = df.drop('DEATH_EVENT', axis=1)"
   ]
  },
  {
   "cell_type": "code",
   "execution_count": 29,
   "id": "6c4a97c5-64d1-42d5-9f77-4690116e829f",
   "metadata": {},
   "outputs": [],
   "source": [
    "y = df['DEATH_EVENT']"
   ]
  },
  {
   "cell_type": "code",
   "execution_count": 31,
   "id": "3bba18a1-a303-423b-ae67-e8a43c0f67a3",
   "metadata": {},
   "outputs": [],
   "source": [
    "X_train, X_test, y_train, y_test = train_test_split(\n",
    "    X,y\n",
    ")"
   ]
  },
  {
   "cell_type": "markdown",
   "id": "529887c5-7ce9-4727-bcb7-8c09873c7a3b",
   "metadata": {},
   "source": [
    "## Logistic Regression"
   ]
  },
  {
   "cell_type": "code",
   "execution_count": 64,
   "id": "40eb9c8e-b1e1-43ff-a595-87634211b86f",
   "metadata": {},
   "outputs": [],
   "source": [
    "from sklearn import preprocessing\n",
    "scaler = preprocessing.StandardScaler().fit(X_train)\n",
    "\n",
    "min_max_scaler = preprocessing.MinMaxScaler().fit(X_train)"
   ]
  },
  {
   "cell_type": "code",
   "execution_count": 65,
   "id": "955709c7-752a-4ac9-b06c-1e766dfc694d",
   "metadata": {},
   "outputs": [],
   "source": [
    "X_scaled = scaler.transform(X_train)\n",
    "X_minmax_scaled = min_max_scaler.transform(X_train)"
   ]
  },
  {
   "cell_type": "code",
   "execution_count": 87,
   "id": "a3320e37-5e1e-4862-8529-9fa003fa67fe",
   "metadata": {
    "scrolled": true
   },
   "outputs": [
    {
     "name": "stderr",
     "output_type": "stream",
     "text": [
      "C:\\Users\\zidny\\AppData\\Local\\Programs\\Python\\Python311\\Lib\\site-packages\\scipy\\optimize\\_linesearch.py:457: LineSearchWarning: The line search algorithm did not converge\n",
      "  warn('The line search algorithm did not converge', LineSearchWarning)\n",
      "C:\\Users\\zidny\\AppData\\Local\\Programs\\Python\\Python311\\Lib\\site-packages\\scipy\\optimize\\_linesearch.py:306: LineSearchWarning: The line search algorithm did not converge\n",
      "  warn('The line search algorithm did not converge', LineSearchWarning)\n"
     ]
    }
   ],
   "source": [
    "logreg = LogisticRegression(random_state=7, max_iter=1000, solver='newton-cg')\n",
    "\n",
    "logreg.fit(X_train, y_train)\n",
    "y_pred = logreg.predict(X_test)"
   ]
  },
  {
   "cell_type": "code",
   "execution_count": 88,
   "id": "32344ae6-2ad3-4289-aa62-1f56f60e894f",
   "metadata": {},
   "outputs": [
    {
     "data": {
      "text/plain": [
       "array([[43,  5],\n",
       "       [ 9, 18]], dtype=int64)"
      ]
     },
     "execution_count": 88,
     "metadata": {},
     "output_type": "execute_result"
    }
   ],
   "source": [
    "# import the metrics class\n",
    "from sklearn import metrics\n",
    "\n",
    "cnf_matrix = metrics.confusion_matrix(y_test, y_pred)\n",
    "cnf_matrix"
   ]
  },
  {
   "cell_type": "code",
   "execution_count": 89,
   "id": "d6767968-df0d-42ea-8596-18938742c446",
   "metadata": {},
   "outputs": [
    {
     "name": "stdout",
     "output_type": "stream",
     "text": [
      "                  precision    recall  f1-score   support\n",
      "\n",
      "without diabetes       0.83      0.90      0.86        48\n",
      "   with diabetes       0.78      0.67      0.72        27\n",
      "\n",
      "        accuracy                           0.81        75\n",
      "       macro avg       0.80      0.78      0.79        75\n",
      "    weighted avg       0.81      0.81      0.81        75\n",
      "\n"
     ]
    }
   ],
   "source": [
    "from sklearn.metrics import classification_report\n",
    "target_names = ['without diabetes', 'with diabetes']\n",
    "print(classification_report(y_test, y_pred, target_names=target_names))"
   ]
  }
 ],
 "metadata": {
  "kernelspec": {
   "display_name": "Python 3 (ipykernel)",
   "language": "python",
   "name": "python3"
  },
  "language_info": {
   "codemirror_mode": {
    "name": "ipython",
    "version": 3
   },
   "file_extension": ".py",
   "mimetype": "text/x-python",
   "name": "python",
   "nbconvert_exporter": "python",
   "pygments_lexer": "ipython3",
   "version": "3.11.0"
  }
 },
 "nbformat": 4,
 "nbformat_minor": 5
}
